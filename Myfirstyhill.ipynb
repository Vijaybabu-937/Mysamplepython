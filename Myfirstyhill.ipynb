{
 "cells": [
  {
   "cell_type": "code",
   "execution_count": 4,
   "id": "d7a8b9e1",
   "metadata": {},
   "outputs": [],
   "source": [
    "###Print Hello World"
   ]
  },
  {
   "cell_type": "markdown",
   "id": "8da9f4fd",
   "metadata": {},
   "source": []
  },
  {
   "cell_type": "markdown",
   "id": "3a6d142d",
   "metadata": {},
   "source": [
    "###Print Vijaybabu"
   ]
  },
  {
   "cell_type": "markdown",
   "id": "f7327f37",
   "metadata": {},
   "source": [
    "### Siddela Vijaybabu"
   ]
  },
  {
   "cell_type": "code",
   "execution_count": 5,
   "id": "2a5d53cd",
   "metadata": {},
   "outputs": [
    {
     "name": "stdout",
     "output_type": "stream",
     "text": [
      "Hello World\n"
     ]
    }
   ],
   "source": [
    "print(\"Hello World\")"
   ]
  },
  {
   "cell_type": "code",
   "execution_count": 6,
   "id": "fa63b944",
   "metadata": {},
   "outputs": [
    {
     "name": "stdout",
     "output_type": "stream",
     "text": [
      "SIDDELA VIJAYBABU BTECH VIT AP UNIVERSTY\n"
     ]
    }
   ],
   "source": [
    "print(\"SIDDELA VIJAYBABU BTECH VIT AP UNIVERSTY\")"
   ]
  },
  {
   "cell_type": "code",
   "execution_count": 7,
   "id": "fdf98f70",
   "metadata": {
    "scrolled": true
   },
   "outputs": [
    {
     "name": "stdout",
     "output_type": "stream",
     "text": [
      "Vijaybabu\n"
     ]
    }
   ],
   "source": [
    "print('Vijaybabu')"
   ]
  },
  {
   "cell_type": "code",
   "execution_count": 8,
   "id": "3f667dea",
   "metadata": {
    "scrolled": false
   },
   "outputs": [
    {
     "ename": "NameError",
     "evalue": "name 'vijaybabu' is not defined",
     "output_type": "error",
     "traceback": [
      "\u001b[1;31m---------------------------------------------------------------------------\u001b[0m",
      "\u001b[1;31mNameError\u001b[0m                                 Traceback (most recent call last)",
      "Cell \u001b[1;32mIn[8], line 1\u001b[0m\n\u001b[1;32m----> 1\u001b[0m \u001b[38;5;28mprint\u001b[39m(vijaybabu)\n",
      "\u001b[1;31mNameError\u001b[0m: name 'vijaybabu' is not defined"
     ]
    }
   ],
   "source": [
    "print(vijaybabu)"
   ]
  },
  {
   "cell_type": "code",
   "execution_count": 9,
   "id": "ae98b77f",
   "metadata": {},
   "outputs": [
    {
     "name": "stdout",
     "output_type": "stream",
     "text": [
      "20\n"
     ]
    }
   ],
   "source": [
    "print(20)"
   ]
  },
  {
   "cell_type": "code",
   "execution_count": 10,
   "id": "ac791181",
   "metadata": {},
   "outputs": [
    {
     "data": {
      "text/plain": [
       "'Siddela vijaybabu'"
      ]
     },
     "execution_count": 10,
     "metadata": {},
     "output_type": "execute_result"
    }
   ],
   "source": [
    "Firstname =\"Siddela vijaybabu\"\n",
    "Firstname"
   ]
  },
  {
   "cell_type": "code",
   "execution_count": 13,
   "id": "2b0a8e4c",
   "metadata": {},
   "outputs": [
    {
     "ename": "SyntaxError",
     "evalue": "cannot assign to expression here. Maybe you meant '==' instead of '='? (2624893746.py, line 2)",
     "output_type": "error",
     "traceback": [
      "\u001b[1;36m  Cell \u001b[1;32mIn[13], line 2\u001b[1;36m\u001b[0m\n\u001b[1;33m    +name =\"Vijaybabu\"\u001b[0m\n\u001b[1;37m    ^\u001b[0m\n\u001b[1;31mSyntaxError\u001b[0m\u001b[1;31m:\u001b[0m cannot assign to expression here. Maybe you meant '==' instead of '='?\n"
     ]
    }
   ],
   "source": [
    "#Variable cann not start with the any special character\n",
    "+name =\"Vijaybabu\"\n",
    "+name"
   ]
  },
  {
   "cell_type": "code",
   "execution_count": 12,
   "id": "cf911ba3",
   "metadata": {
    "scrolled": true
   },
   "outputs": [
    {
     "ename": "SyntaxError",
     "evalue": "invalid decimal literal (628056755.py, line 2)",
     "output_type": "error",
     "traceback": [
      "\u001b[1;36m  Cell \u001b[1;32mIn[12], line 2\u001b[1;36m\u001b[0m\n\u001b[1;33m    3name = \"Vijaybabu\"\u001b[0m\n\u001b[1;37m    ^\u001b[0m\n\u001b[1;31mSyntaxError\u001b[0m\u001b[1;31m:\u001b[0m invalid decimal literal\n"
     ]
    }
   ],
   "source": [
    "# Variable name can not start with number\n",
    "3name = \"Vijaybabu\"\n",
    "3name"
   ]
  },
  {
   "cell_type": "code",
   "execution_count": 14,
   "id": "288757ec",
   "metadata": {},
   "outputs": [
    {
     "data": {
      "text/plain": [
       "'Vijaybabu'"
      ]
     },
     "execution_count": 14,
     "metadata": {},
     "output_type": "execute_result"
    }
   ],
   "source": [
    "#Variable name can only start with _ only\n",
    "first_name = \"Vijaybabu\"\n",
    "first_name"
   ]
  },
  {
   "cell_type": "code",
   "execution_count": 16,
   "id": "9bcd9599",
   "metadata": {},
   "outputs": [
    {
     "data": {
      "text/plain": [
       "20"
      ]
     },
     "execution_count": 16,
     "metadata": {},
     "output_type": "execute_result"
    }
   ],
   "source": [
    "x=20\n",
    "type(x)\n",
    "x"
   ]
  },
  {
   "cell_type": "code",
   "execution_count": null,
   "id": "5aa73168",
   "metadata": {},
   "outputs": [],
   "source": []
  },
  {
   "cell_type": "code",
   "execution_count": null,
   "id": "2d4f1a20",
   "metadata": {},
   "outputs": [],
   "source": []
  }
 ],
 "metadata": {
  "kernelspec": {
   "display_name": "Python 3 (ipykernel)",
   "language": "python",
   "name": "python3"
  },
  "language_info": {
   "codemirror_mode": {
    "name": "ipython",
    "version": 3
   },
   "file_extension": ".py",
   "mimetype": "text/x-python",
   "name": "python",
   "nbconvert_exporter": "python",
   "pygments_lexer": "ipython3",
   "version": "3.11.4"
  }
 },
 "nbformat": 4,
 "nbformat_minor": 5
}
